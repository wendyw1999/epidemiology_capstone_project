{
 "cells": [
  {
   "cell_type": "markdown",
   "metadata": {},
   "source": [
    "# My first automatic Jupyter Notebook\n",
    "This is an auto-generated notebook."
   ]
  },
  {
   "cell_type": "code",
   "execution_count": null,
   "metadata": {},
   "outputs": [],
   "source": [
    "%pylab inline\n",
    "hist(normal(size=2000), bins=50);\n",
    "import pandas as pd\n",
    "import numpy as np\n",
    "import scipy.linalg as la\n",
    "import matplotlib.pyplot as plt\n",
    "url = 'https://raw.githubusercontent.com/CSSEGISandData/COVID-19/master/csse_covid_19_data/csse_covid_19_time_series/time_series_covid19_confirmed_US.csv'\n",
    "us_confirmed_df = pd.read_csv(url, error_bad_lines=False)\n",
    "\n",
    "url = 'https://raw.githubusercontent.com/CSSEGISandData/COVID-19/master/csse_covid_19_data/csse_covid_19_time_series/time_series_covid19_deaths_US.csv'\n",
    "us_death_df = pd.read_csv(url, error_bad_lines=False)\n",
    "\n",
    "display(us_confirmed_df.head())\n",
    "display(us_death_df.head())\n",
    "\n",
    "url = 'https://raw.githubusercontent.com/CSSEGISandData/COVID-19/master/csse_covid_19_data/csse_covid_19_time_series/time_series_covid19_recovered_global.csv'\n",
    "global_recover_df = pd.read_csv(url, error_bad_lines=False)\n",
    "display(global_recover_df.head())\n",
    "\n",
    "\n",
    "url = \"https://raw.githubusercontent.com/descarteslabs/DL-COVID-19/master/DL-us-m50.csv\"\n",
    "mobility = pd.read_csv(url, error_bad_lines=False)\n",
    "display(mobility.head())\n",
    "us_confirmed_df = us_confirmed_df.loc[us_confirmed_df.Admin2 != \"Unassigned\"]\n",
    "us_death_df = us_death_df.loc[us_death_df.Admin2 != \"Unassigned\"]\n",
    "\n"
   ]
  }
 ],
 "metadata": {
  "kernelspec": {
   "display_name": "Python 3",
   "language": "python",
   "name": "python3"
  },
  "language_info": {
   "codemirror_mode": {
    "name": "ipython",
    "version": 3
   },
   "file_extension": ".py",
   "mimetype": "text/x-python",
   "name": "python",
   "nbconvert_exporter": "python",
   "pygments_lexer": "ipython3",
   "version": "3.7.6"
  }
 },
 "nbformat": 4,
 "nbformat_minor": 4
}
